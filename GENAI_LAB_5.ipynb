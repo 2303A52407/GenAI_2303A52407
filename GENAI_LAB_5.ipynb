{
  "nbformat": 4,
  "nbformat_minor": 0,
  "metadata": {
    "colab": {
      "provenance": []
    },
    "kernelspec": {
      "name": "python3",
      "display_name": "Python 3"
    },
    "language_info": {
      "name": "python"
    }
  },
  "cells": [
    {
      "cell_type": "code",
      "execution_count": null,
      "metadata": {
        "id": "coPbmfuSYzRZ"
      },
      "outputs": [],
      "source": [
        "import numpy as np"
      ]
    },
    {
      "cell_type": "code",
      "source": [
        "def sigmoid(x):\n",
        "    return 1 / (1 + np.exp(-x))\n",
        "\n",
        "def sigmoid_derivative(x):\n",
        "    return x * (1 - x)\n",
        "def mse(y_true, y_pred):\n",
        "    return np.mean((y_true - y_pred) ** 2)"
      ],
      "metadata": {
        "id": "z1TSOUmlY69t"
      },
      "execution_count": null,
      "outputs": []
    },
    {
      "cell_type": "code",
      "source": [
        "X_train = np.array([[0.1, 0.2], [0.2, 0.3], [0.3, 0.4], [0.6, 0.7], [0.7, 0.8], [0.8, 0.9]])\n",
        "y_train = np.array([[0.3432], [0.3490], [0.3548], [0.3720], [0.3776], [0.3832]])\n",
        "X_test = np.array([[0.4, 0.5], [0.5, 0.6]])\n",
        "y_test = np.array([[0.3606], [0.3663]])"
      ],
      "metadata": {
        "id": "f0Gc0J1vZBAD"
      },
      "execution_count": null,
      "outputs": []
    },
    {
      "cell_type": "code",
      "source": [
        "input_size = 2\n",
        "hidden_size = 3\n",
        "output_size = 1\n",
        "learning_rate = 0.1\n",
        "\n",
        "theta1 = np.random.rand(input_size, hidden_size)\n",
        "bias1 = np.random.rand(1, hidden_size)\n",
        "theta2 = np.random.rand(hidden_size, output_size)\n",
        "bias2 = np.random.rand(1, output_size)"
      ],
      "metadata": {
        "id": "ks-TTCNUZIBB"
      },
      "execution_count": null,
      "outputs": []
    },
    {
      "cell_type": "code",
      "source": [
        "epochs = 10000\n",
        "for epoch in range(epochs):\n",
        "    # Forward pass\n",
        "    hidden_input = np.dot(X_train, theta1) + bias1\n",
        "    hidden_output = sigmoid(hidden_input)\n",
        "    final_input = np.dot(hidden_output, theta2) + bias2\n",
        "    final_output = final_input  # Linear activation\n",
        "\n",
        "    # Compute error\n",
        "    error = y_train - final_output\n",
        "\n",
        "    # Backpropagation\n",
        "    d_output = error  # Derivative of linear activation is 1\n",
        "    d_hidden = d_output.dot(theta2.T) * sigmoid_derivative(hidden_output)\n",
        "\n",
        "    # Update weights and biases\n",
        "    theta2 += hidden_output.T.dot(d_output) * learning_rate\n",
        "    bias2 += np.sum(d_output, axis=0, keepdims=True) * learning_rate\n",
        "    theta1 += X_train.T.dot(d_hidden) * learning_rate\n",
        "    bias1 += np.sum(d_hidden, axis=0, keepdims=True) * learning_rate\n",
        "    if epoch % 1000 == 0:\n",
        "        loss = mse(y_train, final_output)\n",
        "        print(f\"Epoch {epoch}, Loss: {loss:.6f}\")"
      ],
      "metadata": {
        "colab": {
          "base_uri": "https://localhost:8080/"
        },
        "id": "k9ehbPrWZMlT",
        "outputId": "81a68a63-3c93-4169-f9e2-9a6abd61e136"
      },
      "execution_count": null,
      "outputs": [
        {
          "output_type": "stream",
          "name": "stdout",
          "text": [
            "Epoch 0, Loss: 1.831584\n",
            "Epoch 1000, Loss: 0.000001\n",
            "Epoch 2000, Loss: 0.000001\n",
            "Epoch 3000, Loss: 0.000001\n",
            "Epoch 4000, Loss: 0.000001\n",
            "Epoch 5000, Loss: 0.000001\n",
            "Epoch 6000, Loss: 0.000001\n",
            "Epoch 7000, Loss: 0.000001\n",
            "Epoch 8000, Loss: 0.000001\n",
            "Epoch 9000, Loss: 0.000001\n"
          ]
        }
      ]
    },
    {
      "cell_type": "code",
      "source": [
        "train_predictions = np.dot(sigmoid(np.dot(X_train, theta1) + bias1), theta2) + bias2\n",
        "test_predictions = np.dot(sigmoid(np.dot(X_test, theta1) + bias1), theta2) + bias2"
      ],
      "metadata": {
        "id": "K_ffk1ZbZV6T"
      },
      "execution_count": null,
      "outputs": []
    },
    {
      "cell_type": "code",
      "source": [
        "print(\"Training MSE:\", mse(y_train, train_predictions))\n",
        "print(\"Testing MSE:\", mse(y_test, test_predictions))"
      ],
      "metadata": {
        "colab": {
          "base_uri": "https://localhost:8080/"
        },
        "id": "fN5d9uZ6ZZc7",
        "outputId": "064afa8e-225e-46d5-c802-105dd208ba93"
      },
      "execution_count": null,
      "outputs": [
        {
          "output_type": "stream",
          "name": "stdout",
          "text": [
            "Training MSE: 5.681130769346932e-07\n",
            "Testing MSE: 1.462937175027879e-06\n"
          ]
        }
      ]
    }
  ]
}