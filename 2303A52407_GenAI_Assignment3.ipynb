{
  "nbformat": 4,
  "nbformat_minor": 0,
  "metadata": {
    "colab": {
      "provenance": []
    },
    "kernelspec": {
      "name": "python3",
      "display_name": "Python 3"
    },
    "language_info": {
      "name": "python"
    }
  },
  "cells": [
    {
      "cell_type": "code",
      "source": [
        "def f(x):\n",
        "    return 5*x*4 + 3*x*2 + 10\n",
        "\n",
        "def df(x):\n",
        "    return 20*x**3 + 6*x\n",
        "\n",
        "x = 0\n",
        "learning_rate = 0.01\n",
        "iterations = 1000\n",
        "\n",
        "for i in range(iterations):\n",
        "    x -= learning_rate * df(x)\n",
        "\n",
        "print(\"Minimum value of f(x) is at x =\", x)"
      ],
      "metadata": {
        "colab": {
          "base_uri": "https://localhost:8080/"
        },
        "id": "19ng7OsWW7yX",
        "outputId": "69b0758f-5473-444d-da58-0769451d7895"
      },
      "execution_count": 8,
      "outputs": [
        {
          "output_type": "stream",
          "name": "stdout",
          "text": [
            "Minimum value of f(x) is at x = 0.0\n"
          ]
        }
      ]
    },
    {
      "cell_type": "code",
      "source": [
        "import math\n",
        "\n",
        "def g(x, y):\n",
        "    return 3*x**2 + 5*math.exp(-y) + 10\n",
        "\n",
        "def dg_dx(x, y):\n",
        "    return 6*x\n",
        "\n",
        "def dg_dy(x, y):\n",
        "    return -5*math.exp(-y)\n",
        "\n",
        "x, y = 0, 0\n",
        "learning_rate = 0.01\n",
        "iterations = 1000\n",
        "\n",
        "for i in range(iterations):\n",
        "    x -= learning_rate * dg_dx(x, y)\n",
        "    y -= learning_rate * dg_dy(x, y)\n",
        "\n",
        "print(\"Minimum value of g(x, y) is at x =\", x, \"and y =\", y)"
      ],
      "metadata": {
        "colab": {
          "base_uri": "https://localhost:8080/"
        },
        "id": "HDetD4FRdI76",
        "outputId": "75b9903e-25e9-4ea7-8e21-a6e8235c9011"
      },
      "execution_count": 13,
      "outputs": [
        {
          "output_type": "stream",
          "name": "stdout",
          "text": [
            "Minimum value of g(x, y) is at x = 0.0 and y = 3.9337602416246904\n"
          ]
        }
      ]
    },
    {
      "cell_type": "code",
      "source": [
        "import math\n",
        "\n",
        "def z(x):\n",
        "    return 1 / (1 + math.exp(-x))\n",
        "\n",
        "def dz(x):\n",
        "    return z(x) * (1 - z(x))\n",
        "\n",
        "x = 0\n",
        "learning_rate = 0.01\n",
        "iterations = 1000\n",
        "\n",
        "for i in range(iterations):\n",
        "    x -= learning_rate * dz(x)\n",
        "\n",
        "print(\"Minimum value of z(x) is at x =\", x)"
      ],
      "metadata": {
        "colab": {
          "base_uri": "https://localhost:8080/"
        },
        "id": "qq2UUCAlaW82",
        "outputId": "f8b615ae-917b-4b02-cb4f-4848a54a04a0"
      },
      "execution_count": 9,
      "outputs": [
        {
          "output_type": "stream",
          "name": "stdout",
          "text": [
            "Minimum value of z(x) is at x = -1.8618354629020137\n"
          ]
        }
      ]
    },
    {
      "cell_type": "code",
      "source": [
        "input_value = 2\n",
        "expected_output = 0.5\n",
        "\n",
        "M = 0.0\n",
        "C = 0.0\n",
        "\n",
        "learning_rate = 0.01\n",
        "iterations = 1000\n",
        "\n",
        "def compute_square_error(expected, predicted):\n",
        "    return (expected - predicted) ** 2\n",
        "\n",
        "for _ in range(iterations):\n",
        "    predicted_output = M * input_value + C\n",
        "    error = compute_square_error(expected_output, predicted_output)\n",
        "\n",
        "    gradient_M = -2 * input_value * (expected_output - predicted_output)\n",
        "    gradient_C = -2 * (expected_output - predicted_output)\n",
        "\n",
        "    M -= learning_rate * gradient_M\n",
        "    C -= learning_rate * gradient_C\n",
        "\n",
        "print(\"Optimal M:\", M)\n",
        "print(\"Optimal C:\", C)"
      ],
      "metadata": {
        "colab": {
          "base_uri": "https://localhost:8080/"
        },
        "id": "S4phW0-nc5G-",
        "outputId": "4bddc2cc-d4e4-46d7-f8f6-7062a1d62461"
      },
      "execution_count": 14,
      "outputs": [
        {
          "output_type": "stream",
          "name": "stdout",
          "text": [
            "Optimal M: 0.19999999999999987\n",
            "Optimal C: 0.09999999999999994\n"
          ]
        }
      ]
    }
  ]
}